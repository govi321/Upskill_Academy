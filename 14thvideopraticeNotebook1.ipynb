{
 "cells": [
  {
   "cell_type": "markdown",
   "metadata": {
    "application/vnd.databricks.v1+cell": {
     "cellMetadata": {},
     "inputWidgets": {},
     "nuid": "156c3025-c46b-4df1-b358-c531011e6ed7",
     "showTitle": false,
     "tableResultSettingsMap": {},
     "title": ""
    }
   },
   "source": [
    "# ### calling Note  book1 to In to Note book2"
   ]
  },
  {
   "cell_type": "code",
   "execution_count": 0,
   "metadata": {
    "application/vnd.databricks.v1+cell": {
     "cellMetadata": {
      "byteLimit": 2048000,
      "rowLimit": 10000
     },
     "inputWidgets": {},
     "nuid": "343cd8b7-b3de-410d-8032-12c3dc3946a8",
     "showTitle": false,
     "tableResultSettingsMap": {},
     "title": ""
    }
   },
   "outputs": [
    {
     "output_type": "stream",
     "name": "stdout",
     "output_type": "stream",
     "text": [
      "+------+--------+-------+\n|emp_id|emp_name|dept_id|\n+------+--------+-------+\n|     1|   Alice|    101|\n|     2|     Bob|    102|\n|     3| Charlie|    101|\n|     4|   David|    103|\n+------+--------+-------+\n\n"
     ]
    }
   ],
   "source": [
    "# Step1- create empdf in first notebook\n",
    "\n",
    "# Step1- create empdf in first notebook\n",
    "\n",
    "# Create the Employee DataFrame\n",
    "from pyspark.sql.types import StructType, StructField, StringType, IntegerType\n",
    "\n",
    "# Define schema for Employee DataFrame\n",
    "emp_schema = StructType([\n",
    "    StructField(\"emp_id\", IntegerType(), True),\n",
    "    StructField(\"emp_name\", StringType(), True),\n",
    "    StructField(\"dept_id\", IntegerType(), True)\n",
    "])\n",
    "\n",
    "# Sample employee data\n",
    "emp_data = [\n",
    "    (1, \"Alice\", 101),\n",
    "    (2, \"Bob\", 102),\n",
    "    (3, \"Charlie\", 101),\n",
    "    (4, \"David\", 103)\n",
    "]\n",
    "\n",
    "# Create Employee DataFrame\n",
    "emp_df = spark.createDataFrame(data=emp_data, schema=emp_schema)\n",
    "\n",
    "# Display the Employee DataFrame\n",
    "emp_df.show()\n",
    "\n",
    "# Register as a temporary view for SQL or share with another notebook\n",
    "#emp_df.createOrReplaceTempView(\"Employee\")"
   ]
  }
 ],
 "metadata": {
  "application/vnd.databricks.v1+notebook": {
   "computePreferences": null,
   "dashboards": [],
   "environmentMetadata": {
    "base_environment": "",
    "environment_version": "2"
   },
   "inputWidgetPreferences": null,
   "language": "python",
   "notebookMetadata": {
    "pythonIndentUnit": 4
   },
   "notebookName": "14thvideopraticeNotebook1",
   "widgets": {}
  },
  "language_info": {
   "name": "python"
  }
 },
 "nbformat": 4,
 "nbformat_minor": 0
}