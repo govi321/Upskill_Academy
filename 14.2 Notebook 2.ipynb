{
 "cells": [
  {
   "cell_type": "code",
   "execution_count": 0,
   "metadata": {
    "application/vnd.databricks.v1+cell": {
     "cellMetadata": {
      "byteLimit": 2048000,
      "rowLimit": 10000
     },
     "inputWidgets": {},
     "nuid": "0b6b914e-91a0-4163-af2b-90ae912bbdde",
     "showTitle": false,
     "tableResultSettingsMap": {},
     "title": ""
    }
   },
   "outputs": [
    {
     "output_type": "stream",
     "name": "stdout",
     "output_type": "stream",
     "text": [
      "+-------+-----------+\n|dept_id|  dept_name|\n+-------+-----------+\n|    101|         HR|\n|    102|Engineering|\n|    103|  Marketing|\n+-------+-----------+\n\n"
     ]
    }
   ],
   "source": [
    "# Step 2- Create deptdf in second notebook\n",
    "\n",
    "# Create the Department DataFrame\n",
    "\n",
    "from pyspark.sql.types import StructType, StructField, StringType, IntegerType\n",
    "\n",
    "# Define schema for Department DataFrame\n",
    "dept_schema = StructType([\n",
    "    StructField(\"dept_id\", IntegerType(), True),\n",
    "    StructField(\"dept_name\", StringType(), True)\n",
    "])\n",
    "\n",
    "# Sample department data\n",
    "dept_data = [\n",
    "    (101, \"HR\"),\n",
    "    (102, \"Engineering\"),\n",
    "    (103, \"Marketing\")\n",
    "]\n",
    "\n",
    "# Create Department DataFrame\n",
    "dept_df = spark.createDataFrame(data=dept_data, schema=dept_schema)\n",
    "\n",
    "# Display the Department DataFrame\n",
    "dept_df.show()\n",
    "\n",
    "# Register as a temporary view for SQL or share with another notebook\n",
    "#dept_df.createOrReplaceTempView(\"Department\")"
   ]
  },
  {
   "cell_type": "code",
   "execution_count": 0,
   "metadata": {
    "application/vnd.databricks.v1+cell": {
     "cellMetadata": {
      "byteLimit": 2048000,
      "rowLimit": 10000
     },
     "inputWidgets": {},
     "nuid": "4a10b99b-e4a7-490d-99e8-9952b1bf2f94",
     "showTitle": false,
     "tableResultSettingsMap": {},
     "title": ""
    }
   },
   "outputs": [
    {
     "output_type": "display_data",
     "data": {
      "text/markdown": [
       "# ### calling Note  book1 to In to Note book2"
      ]
     },
     "metadata": {},
     "output_type": "display_data"
    }
   ],
   "source": [
    "%run \"./14thvideopraticeNotebook1\""
   ]
  },
  {
   "cell_type": "markdown",
   "metadata": {
    "application/vnd.databricks.v1+cell": {
     "cellMetadata": {},
     "inputWidgets": {},
     "nuid": "5c6f0921-86c6-4788-bdce-f2106be1723c",
     "showTitle": false,
     "tableResultSettingsMap": {},
     "title": ""
    }
   },
   "source": [
    "### joins"
   ]
  },
  {
   "cell_type": "code",
   "execution_count": 0,
   "metadata": {
    "application/vnd.databricks.v1+cell": {
     "cellMetadata": {
      "byteLimit": 2048000,
      "rowLimit": 10000
     },
     "inputWidgets": {},
     "nuid": "0c1eca10-0669-4a30-976d-7810e0e6118e",
     "showTitle": false,
     "tableResultSettingsMap": {},
     "title": ""
    }
   },
   "outputs": [
    {
     "output_type": "display_data",
     "data": {
      "text/html": [
       "<style scoped>\n",
       "  .table-result-container {\n",
       "    max-height: 300px;\n",
       "    overflow: auto;\n",
       "  }\n",
       "  table, th, td {\n",
       "    border: 1px solid black;\n",
       "    border-collapse: collapse;\n",
       "  }\n",
       "  th, td {\n",
       "    padding: 5px;\n",
       "  }\n",
       "  th {\n",
       "    text-align: left;\n",
       "  }\n",
       "</style><div class='table-result-container'><table class='table-result'><thead style='background-color: white'><tr><th>emp_id</th><th>emp_name</th><th>dept_id</th><th>dept_id</th><th>dept_name</th></tr></thead><tbody><tr><td>1</td><td>Alice</td><td>101</td><td>101</td><td>HR</td></tr><tr><td>2</td><td>Bob</td><td>102</td><td>102</td><td>Engineering</td></tr><tr><td>3</td><td>Charlie</td><td>101</td><td>101</td><td>HR</td></tr><tr><td>4</td><td>David</td><td>103</td><td>103</td><td>Marketing</td></tr></tbody></table></div>"
      ]
     },
     "metadata": {
      "application/vnd.databricks.v1+output": {
       "addedWidgets": {},
       "aggData": [],
       "aggError": "",
       "aggOverflow": false,
       "aggSchema": [],
       "aggSeriesLimitReached": false,
       "aggType": "",
       "arguments": {},
       "columnCustomDisplayInfos": {},
       "data": [
        [
         1,
         "Alice",
         101,
         101,
         "HR"
        ],
        [
         2,
         "Bob",
         102,
         102,
         "Engineering"
        ],
        [
         3,
         "Charlie",
         101,
         101,
         "HR"
        ],
        [
         4,
         "David",
         103,
         103,
         "Marketing"
        ]
       ],
       "datasetInfos": [],
       "dbfsResultPath": null,
       "isJsonSchema": true,
       "metadata": {},
       "overflow": false,
       "plotOptions": {
        "customPlotOptions": {},
        "displayType": "table",
        "pivotAggregation": null,
        "pivotColumns": null,
        "xColumns": null,
        "yColumns": null
       },
       "removedWidgets": [],
       "schema": [
        {
         "metadata": "{}",
         "name": "emp_id",
         "type": "\"integer\""
        },
        {
         "metadata": "{}",
         "name": "emp_name",
         "type": "\"string\""
        },
        {
         "metadata": "{}",
         "name": "dept_id",
         "type": "\"integer\""
        },
        {
         "metadata": "{}",
         "name": "dept_id",
         "type": "\"integer\""
        },
        {
         "metadata": "{}",
         "name": "dept_name",
         "type": "\"string\""
        }
       ],
       "type": "table"
      }
     },
     "output_type": "display_data"
    }
   ],
   "source": [
    "df_join=emp_df .join(dept_df, emp_df.dept_id == dept_df.dept_id, how = \"inner\")\n",
    "df_join.show()\n",
    "display(df_join)\n"
   ]
  }
 ],
 "metadata": {
  "application/vnd.databricks.v1+notebook": {
   "computePreferences": null,
   "dashboards": [],
   "environmentMetadata": {
    "base_environment": "",
    "environment_version": "2"
   },
   "inputWidgetPreferences": null,
   "language": "python",
   "notebookMetadata": {
    "pythonIndentUnit": 4
   },
   "notebookName": "14.2 Notebook 2",
   "widgets": {}
  },
  "language_info": {
   "name": "python"
  }
 },
 "nbformat": 4,
 "nbformat_minor": 0
}