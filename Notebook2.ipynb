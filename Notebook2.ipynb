{
 "cells": [
  {
   "cell_type": "code",
   "execution_count": 0,
   "metadata": {
    "application/vnd.databricks.v1+cell": {
     "cellMetadata": {
      "byteLimit": 2048000,
      "rowLimit": 10000
     },
     "inputWidgets": {},
     "nuid": "48fdc510-b66a-4a66-aef3-152261740ccc",
     "showTitle": false,
     "tableResultSettingsMap": {},
     "title": ""
    }
   },
   "outputs": [
    {
     "output_type": "stream",
     "name": "stdout",
     "output_type": "stream",
     "text": [
      "+-------+-----------+\n|dept_id|  dept_name|\n+-------+-----------+\n|    101|         HR|\n|    102|Engineering|\n|    103|  Marketing|\n+-------+-----------+\n\n"
     ]
    }
   ],
   "source": [
    "# Step 2- Create deptdf in second notebook\n",
    "\n",
    "# Create the Department DataFrame\n",
    "\n",
    "from pyspark.sql.types import StructType, StructField, StringType, IntegerType\n",
    "\n",
    "# Define schema for Department DataFrame\n",
    "dept_schema = StructType([\n",
    "    StructField(\"dept_id\", IntegerType(), True),\n",
    "    StructField(\"dept_name\", StringType(), True)\n",
    "])\n",
    "\n",
    "# Sample department data\n",
    "dept_data = [\n",
    "    (101, \"HR\"),\n",
    "    (102, \"Engineering\"),\n",
    "    (103, \"Marketing\")\n",
    "]\n",
    "\n",
    "# Create Department DataFrame\n",
    "dept_df = spark.createDataFrame(data=dept_data, schema=dept_schema)\n",
    "\n",
    "# Display the Department DataFrame\n",
    "dept_df.show()\n",
    "\n",
    "# Register as a temporary view for SQL or share with another notebook\n",
    "#dept_df.createOrReplaceTempView(\"Department\")\n"
   ]
  },
  {
   "cell_type": "code",
   "execution_count": 0,
   "metadata": {
    "application/vnd.databricks.v1+cell": {
     "cellMetadata": {
      "byteLimit": 2048000,
      "rowLimit": 10000
     },
     "inputWidgets": {},
     "nuid": "eca19e9c-8653-419b-900a-7223c5cb5a82",
     "showTitle": false,
     "tableResultSettingsMap": {},
     "title": ""
    }
   },
   "outputs": [
    {
     "output_type": "stream",
     "name": "stdout",
     "output_type": "stream",
     "text": [
      "+------+--------+-------+\n|emp_id|emp_name|dept_id|\n+------+--------+-------+\n|     1|   Alice|    101|\n|     2|     Bob|    102|\n|     3| Charlie|    101|\n|     4|   David|    103|\n+------+--------+-------+\n\n"
     ]
    }
   ],
   "source": [
    "%run \"./notebook 1\""
   ]
  },
  {
   "cell_type": "code",
   "execution_count": 0,
   "metadata": {
    "application/vnd.databricks.v1+cell": {
     "cellMetadata": {
      "byteLimit": 2048000,
      "rowLimit": 10000
     },
     "inputWidgets": {},
     "nuid": "f9da4685-d706-4432-a659-52add67b0fdf",
     "showTitle": false,
     "tableResultSettingsMap": {},
     "title": ""
    }
   },
   "outputs": [
    {
     "output_type": "display_data",
     "data": {
      "text/html": [
       "<style scoped>\n",
       "  .table-result-container {\n",
       "    max-height: 300px;\n",
       "    overflow: auto;\n",
       "  }\n",
       "  table, th, td {\n",
       "    border: 1px solid black;\n",
       "    border-collapse: collapse;\n",
       "  }\n",
       "  th, td {\n",
       "    padding: 5px;\n",
       "  }\n",
       "  th {\n",
       "    text-align: left;\n",
       "  }\n",
       "</style><div class='table-result-container'><table class='table-result'><thead style='background-color: white'><tr><th>emp_id</th><th>emp_name</th><th>dept_id</th><th>dept_id</th><th>dept_name</th></tr></thead><tbody><tr><td>1</td><td>Alice</td><td>101</td><td>101</td><td>HR</td></tr><tr><td>2</td><td>Bob</td><td>102</td><td>102</td><td>Engineering</td></tr><tr><td>3</td><td>Charlie</td><td>101</td><td>101</td><td>HR</td></tr><tr><td>4</td><td>David</td><td>103</td><td>103</td><td>Marketing</td></tr></tbody></table></div>"
      ]
     },
     "metadata": {
      "application/vnd.databricks.v1+output": {
       "addedWidgets": {},
       "aggData": [],
       "aggError": "",
       "aggOverflow": false,
       "aggSchema": [],
       "aggSeriesLimitReached": false,
       "aggType": "",
       "arguments": {},
       "columnCustomDisplayInfos": {},
       "data": [
        [
         1,
         "Alice",
         101,
         101,
         "HR"
        ],
        [
         2,
         "Bob",
         102,
         102,
         "Engineering"
        ],
        [
         3,
         "Charlie",
         101,
         101,
         "HR"
        ],
        [
         4,
         "David",
         103,
         103,
         "Marketing"
        ]
       ],
       "datasetInfos": [],
       "dbfsResultPath": null,
       "isJsonSchema": true,
       "metadata": {},
       "overflow": false,
       "plotOptions": {
        "customPlotOptions": {},
        "displayType": "table",
        "pivotAggregation": null,
        "pivotColumns": null,
        "xColumns": null,
        "yColumns": null
       },
       "removedWidgets": [],
       "schema": [
        {
         "metadata": "{}",
         "name": "emp_id",
         "type": "\"integer\""
        },
        {
         "metadata": "{}",
         "name": "emp_name",
         "type": "\"string\""
        },
        {
         "metadata": "{}",
         "name": "dept_id",
         "type": "\"integer\""
        },
        {
         "metadata": "{}",
         "name": "dept_id",
         "type": "\"integer\""
        },
        {
         "metadata": "{}",
         "name": "dept_name",
         "type": "\"string\""
        }
       ],
       "type": "table"
      }
     },
     "output_type": "display_data"
    }
   ],
   "source": [
    "df_join=emp_df.join(dept_df,emp_df.dept_id==dept_df.dept_id,\"inner\")\n",
    "display(df_join)"
   ]
  },
  {
   "cell_type": "code",
   "execution_count": 0,
   "metadata": {
    "application/vnd.databricks.v1+cell": {
     "cellMetadata": {
      "byteLimit": 2048000,
      "rowLimit": 10000
     },
     "inputWidgets": {},
     "nuid": "1213fce2-46ae-4ac4-a653-716493bfd5d8",
     "showTitle": false,
     "tableResultSettingsMap": {},
     "title": ""
    }
   },
   "outputs": [
    {
     "output_type": "stream",
     "name": "stdout",
     "output_type": "stream",
     "text": [
      "jdbc:sqlserver://databricstosqlconnecting.database.windows.net:1433;database=datbricstosqlconetingdatabase;user=goviadmin;password=admin123!@#\n"
     ]
    }
   ],
   "source": [
    "jdbcUsername = \"goviadmin\"\n",
    "jdbcPassword = \"admin123!@#\"\n",
    "jdbcHostname = \"databricstosqlconnecting.database.windows.net\"    # hostname is servername\n",
    "jdbcDatabase = \"datbricstosqlconetingdatabase\"\n",
    "jdbcPort = 1433\n",
    "\n",
    "jdbcUrl = f\"jdbc:sqlserver://{jdbcHostname}:{jdbcPort};database={jdbcDatabase};user={jdbcUsername};password={jdbcPassword}\"\n",
    "print(jdbcUrl)\n"
   ]
  },
  {
   "cell_type": "code",
   "execution_count": 0,
   "metadata": {
    "application/vnd.databricks.v1+cell": {
     "cellMetadata": {
      "byteLimit": 2048000,
      "rowLimit": 10000
     },
     "inputWidgets": {},
     "nuid": "21982c80-c710-4074-81f8-912dc03ff95c",
     "showTitle": false,
     "tableResultSettingsMap": {},
     "title": ""
    }
   },
   "outputs": [
    {
     "output_type": "display_data",
     "data": {
      "text/html": [
       "<style scoped>\n",
       "  .table-result-container {\n",
       "    max-height: 300px;\n",
       "    overflow: auto;\n",
       "  }\n",
       "  table, th, td {\n",
       "    border: 1px solid black;\n",
       "    border-collapse: collapse;\n",
       "  }\n",
       "  th, td {\n",
       "    padding: 5px;\n",
       "  }\n",
       "  th {\n",
       "    text-align: left;\n",
       "  }\n",
       "</style><div class='table-result-container'><table class='table-result'><thead style='background-color: white'><tr><th>PaymentID</th><th>OrderID</th><th>PaymentMethod</th><th>PaymentStatus</th><th>Amount</th></tr></thead><tbody><tr><td>1</td><td>1</td><td>Credit Card</td><td>Completed</td><td>150.00</td></tr><tr><td>2</td><td>2</td><td>PayPal</td><td>Pending</td><td>200.00</td></tr><tr><td>3</td><td>3</td><td>Bank Transfer</td><td>Completed</td><td>300.00</td></tr><tr><td>4</td><td>4</td><td>Credit Card</td><td>Failed</td><td>0.00</td></tr><tr><td>5</td><td>5</td><td>Credit Card</td><td>Completed</td><td>500.00</td></tr><tr><td>6</td><td>6</td><td>PayPal</td><td>Pending</td><td>250.00</td></tr></tbody></table></div>"
      ]
     },
     "metadata": {
      "application/vnd.databricks.v1+output": {
       "addedWidgets": {},
       "aggData": [],
       "aggError": "",
       "aggOverflow": false,
       "aggSchema": [],
       "aggSeriesLimitReached": false,
       "aggType": "",
       "arguments": {},
       "columnCustomDisplayInfos": {},
       "data": [
        [
         1,
         1,
         "Credit Card",
         "Completed",
         "150.00"
        ],
        [
         2,
         2,
         "PayPal",
         "Pending",
         "200.00"
        ],
        [
         3,
         3,
         "Bank Transfer",
         "Completed",
         "300.00"
        ],
        [
         4,
         4,
         "Credit Card",
         "Failed",
         "0.00"
        ],
        [
         5,
         5,
         "Credit Card",
         "Completed",
         "500.00"
        ],
        [
         6,
         6,
         "PayPal",
         "Pending",
         "250.00"
        ]
       ],
       "datasetInfos": [],
       "dbfsResultPath": null,
       "isJsonSchema": true,
       "metadata": {},
       "overflow": false,
       "plotOptions": {
        "customPlotOptions": {},
        "displayType": "table",
        "pivotAggregation": null,
        "pivotColumns": null,
        "xColumns": null,
        "yColumns": null
       },
       "removedWidgets": [],
       "schema": [
        {
         "metadata": "{\"isTimestampNTZ\":false,\"signed\":true,\"scale\":0}",
         "name": "PaymentID",
         "type": "\"integer\""
        },
        {
         "metadata": "{\"isTimestampNTZ\":false,\"signed\":true,\"scale\":0}",
         "name": "OrderID",
         "type": "\"integer\""
        },
        {
         "metadata": "{\"isTimestampNTZ\":false,\"__CHAR_VARCHAR_TYPE_STRING\":\"varchar(50)\",\"signed\":false,\"scale\":0}",
         "name": "PaymentMethod",
         "type": "\"string\""
        },
        {
         "metadata": "{\"isTimestampNTZ\":false,\"__CHAR_VARCHAR_TYPE_STRING\":\"varchar(20)\",\"signed\":false,\"scale\":0}",
         "name": "PaymentStatus",
         "type": "\"string\""
        },
        {
         "metadata": "{\"isTimestampNTZ\":false,\"signed\":true,\"scale\":2}",
         "name": "Amount",
         "type": "\"decimal(10,2)\""
        }
       ],
       "type": "table"
      }
     },
     "output_type": "display_data"
    }
   ],
   "source": [
    "df1 = spark.read.jdbc(url=jdbcUrl, table=\"Payments\")\n",
    "display(df1)"
   ]
  },
  {
   "cell_type": "code",
   "execution_count": 0,
   "metadata": {
    "application/vnd.databricks.v1+cell": {
     "cellMetadata": {
      "byteLimit": 2048000,
      "rowLimit": 10000
     },
     "inputWidgets": {},
     "nuid": "85b78a17-49f6-4ec9-b0ab-301e014e030a",
     "showTitle": false,
     "tableResultSettingsMap": {},
     "title": ""
    }
   },
   "outputs": [
    {
     "output_type": "display_data",
     "data": {
      "text/html": [
       "<style scoped>\n",
       "  .table-result-container {\n",
       "    max-height: 300px;\n",
       "    overflow: auto;\n",
       "  }\n",
       "  table, th, td {\n",
       "    border: 1px solid black;\n",
       "    border-collapse: collapse;\n",
       "  }\n",
       "  th, td {\n",
       "    padding: 5px;\n",
       "  }\n",
       "  th {\n",
       "    text-align: left;\n",
       "  }\n",
       "</style><div class='table-result-container'><table class='table-result'><thead style='background-color: white'><tr><th>PaymentID</th><th>OrderID</th><th>PaymentMethod</th><th>PaymentStatus</th><th>Amount</th></tr></thead><tbody><tr><td>1</td><td>1</td><td>Credit Card</td><td>Completed</td><td>150.00</td></tr><tr><td>4</td><td>4</td><td>Credit Card</td><td>Failed</td><td>0.00</td></tr><tr><td>5</td><td>5</td><td>Credit Card</td><td>Completed</td><td>500.00</td></tr></tbody></table></div>"
      ]
     },
     "metadata": {
      "application/vnd.databricks.v1+output": {
       "addedWidgets": {},
       "aggData": [],
       "aggError": "",
       "aggOverflow": false,
       "aggSchema": [],
       "aggSeriesLimitReached": false,
       "aggType": "",
       "arguments": {},
       "columnCustomDisplayInfos": {},
       "data": [
        [
         1,
         1,
         "Credit Card",
         "Completed",
         "150.00"
        ],
        [
         4,
         4,
         "Credit Card",
         "Failed",
         "0.00"
        ],
        [
         5,
         5,
         "Credit Card",
         "Completed",
         "500.00"
        ]
       ],
       "datasetInfos": [],
       "dbfsResultPath": null,
       "isJsonSchema": true,
       "metadata": {},
       "overflow": false,
       "plotOptions": {
        "customPlotOptions": {},
        "displayType": "table",
        "pivotAggregation": null,
        "pivotColumns": null,
        "xColumns": null,
        "yColumns": null
       },
       "removedWidgets": [],
       "schema": [
        {
         "metadata": "{\"isTimestampNTZ\":false,\"signed\":true,\"scale\":0}",
         "name": "PaymentID",
         "type": "\"integer\""
        },
        {
         "metadata": "{\"isTimestampNTZ\":false,\"signed\":true,\"scale\":0}",
         "name": "OrderID",
         "type": "\"integer\""
        },
        {
         "metadata": "{\"isTimestampNTZ\":false,\"__CHAR_VARCHAR_TYPE_STRING\":\"varchar(50)\",\"signed\":false,\"scale\":0}",
         "name": "PaymentMethod",
         "type": "\"string\""
        },
        {
         "metadata": "{\"isTimestampNTZ\":false,\"__CHAR_VARCHAR_TYPE_STRING\":\"varchar(20)\",\"signed\":false,\"scale\":0}",
         "name": "PaymentStatus",
         "type": "\"string\""
        },
        {
         "metadata": "{\"isTimestampNTZ\":false,\"signed\":true,\"scale\":2}",
         "name": "Amount",
         "type": "\"decimal(10,2)\""
        }
       ],
       "type": "table"
      }
     },
     "output_type": "display_data"
    }
   ],
   "source": [
    "df_filter=df1.filter(df1.PaymentMethod == \"Credit Card\")\n",
    "display(df_filter)"
   ]
  },
  {
   "cell_type": "code",
   "execution_count": 0,
   "metadata": {
    "application/vnd.databricks.v1+cell": {
     "cellMetadata": {
      "byteLimit": 2048000,
      "rowLimit": 10000
     },
     "inputWidgets": {},
     "nuid": "3a7ed229-3eb8-43a7-aa5a-ca8d645c0319",
     "showTitle": false,
     "tableResultSettingsMap": {},
     "title": ""
    }
   },
   "outputs": [],
   "source": [
    "df_filter.write.format(\"jdbc\") \\\n",
    "    .option(\"url\", jdbcUrl) \\\n",
    "    .option(\"dbtable\", \"df_filter\") \\\n",
    "    .option(\"goviadmin\", jdbcUsername) \\\n",
    "    .option(\"admin123!@#\", jdbcPassword) \\\n",
    "    .option(\"driver\", \"com.microsoft.sqlserver.jdbc.SQLServerDriver\") \\\n",
    "    .mode(\"overwrite\") \\\n",
    "    .save()\n"
   ]
  }
 ],
 "metadata": {
  "application/vnd.databricks.v1+notebook": {
   "computePreferences": {
    "hardware": {
     "accelerator": null,
     "gpuPoolId": null,
     "memory": null
    }
   },
   "dashboards": [],
   "environmentMetadata": {
    "base_environment": "",
    "environment_version": "2"
   },
   "inputWidgetPreferences": null,
   "language": "python",
   "notebookMetadata": {
    "pythonIndentUnit": 4
   },
   "notebookName": "Notebook2",
   "widgets": {}
  },
  "language_info": {
   "name": "python"
  }
 },
 "nbformat": 4,
 "nbformat_minor": 0
}